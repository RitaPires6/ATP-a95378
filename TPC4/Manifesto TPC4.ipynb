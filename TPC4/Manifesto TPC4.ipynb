{
 "cells": [
  {
   "cell_type": "markdown",
   "metadata": {},
   "source": [
    "# ATP 2021/2022"
   ]
  },
  {
   "cell_type": "markdown",
   "metadata": {},
   "source": [
    "## Manifesto do TPC4"
   ]
  },
  {
   "cell_type": "markdown",
   "metadata": {},
   "source": [
    "* ***autor:*** Ana Rita Pires, A95378, MIEBIOM\n",
    "* ***indentificador:*** TPC4\n",
    "* ***título:*** Calculadora de frações\n",
    "* ***supervisor:*** José Carlos Ramalho, www.di.uminho.pt/~jcr/\n",
    "* ***data de inicio:*** 2021-11-06 \n",
    "* ***data de fim:*** 2021-11-09"
   ]
  },
  {
   "cell_type": "markdown",
   "metadata": {},
   "source": [
    " ### Resumo:"
   ]
  },
  {
   "cell_type": "markdown",
   "metadata": {},
   "source": [
    "O projeto TPC4 consiste num conjunto de algoritmos em *python* capaz de resolver o problema proposto, que é  o desenvolvimento de uma aplicação capaz de trabalhar e efetuar operações básicas com frações.\n",
    "\n",
    "  Para isso fui criando as diferentes funções com a finalidade de criar as frações e realizar as operações pretendidas, em seguida criei a função correspondente ao menu que terá 10 opções sendo que a opção correspondente a **0** é a de sair. Para além disso criei uma lista que irá armazenar todos os valores de funções criadas ou resultadas das operações."
   ]
  }
 ],
 "metadata": {
  "kernelspec": {
   "display_name": "Python 3",
   "language": "python",
   "name": "python3"
  },
  "language_info": {
   "codemirror_mode": {
    "name": "ipython",
    "version": 3
   },
   "file_extension": ".py",
   "mimetype": "text/x-python",
   "name": "python",
   "nbconvert_exporter": "python",
   "pygments_lexer": "ipython3",
   "version": "3.8.3"
  }
 },
 "nbformat": 4,
 "nbformat_minor": 4
}
