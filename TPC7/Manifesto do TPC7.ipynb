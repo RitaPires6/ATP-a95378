{
 "cells": [
  {
   "cell_type": "markdown",
   "metadata": {},
   "source": [
    "# ATP 2021/2022"
   ]
  },
  {
   "cell_type": "markdown",
   "metadata": {},
   "source": [
    "## Manifesto do TPC7"
   ]
  },
  {
   "cell_type": "markdown",
   "metadata": {},
   "source": [
    "* ***autor:*** Ana Rita Pires, A95378, MIEBIOM\n",
    "* ***indentificador:*** TPC7\n",
    "* ***título:*** Processamento de datasets\n",
    "* ***supervisor:*** José Carlos Ramalho, www.di.uminho.pt/~jcr/\n",
    "* ***data de inicio:*** 2021-11-29\n",
    "* ***data de fim:*** 2021-12-02"
   ]
  },
  {
   "cell_type": "markdown",
   "metadata": {},
   "source": [
    "### Resumo:"
   ]
  },
  {
   "cell_type": "markdown",
   "metadata": {},
   "source": [
    "O projeto TPC7 realizado em python consiste num conjunto de funções capazes de fazer a leitura e o processamento de datasets.\n",
    "\n",
    "Para isso, utilizou-se o dataset *\"alunos.csv\"*, em que defini que o dataset é constituido por uma lista de dicionários, em que cada dicionário é constituido pelos pares chave/valor, ou seja, BD=[Aluno] e Aluno={id: , nome:  , curso:   ,tpc:[int]} .\n",
    "\n",
    "Desta forma, criei um conjunto de funções capazes de consultar o dataset, dizer o top 10 de alunos relativamente à média, distribuir os alunos tanto por curso como por média e os seus respetivos gráficos de barras.\n"
   ]
  }
 ],
 "metadata": {
  "kernelspec": {
   "display_name": "Python 3",
   "language": "python",
   "name": "python3"
  },
  "language_info": {
   "codemirror_mode": {
    "name": "ipython",
    "version": 3
   },
   "file_extension": ".py",
   "mimetype": "text/x-python",
   "name": "python",
   "nbconvert_exporter": "python",
   "pygments_lexer": "ipython3",
   "version": "3.8.3"
  }
 },
 "nbformat": 4,
 "nbformat_minor": 4
}
