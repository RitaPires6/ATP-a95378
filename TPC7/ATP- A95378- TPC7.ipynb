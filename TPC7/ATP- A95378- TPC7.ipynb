{
 "cells": [
  {
   "cell_type": "code",
   "execution_count": null,
   "metadata": {},
   "outputs": [],
   "source": [
    "#BD=[Aluno]\n",
    "#Aluno={id: , nome:  , curso:   ,tpc:[int]}\n",
    "\n",
    "#leitura da informação do ficheiro- ex:1\n",
    "def lerDataset(fnome):\n",
    "    bd = []\n",
    "    f = open( fnome, encoding='utf-8')\n",
    "    f.readline()\n",
    "    for linha in f:\n",
    "        novaLinha = linha.replace(\"\\n\",\"\")\n",
    "        campos = novaLinha.split(\",\")\n",
    "        aluno = {}\n",
    "        aluno['id'] = campos[0]\n",
    "        aluno['nome'] = campos[1]\n",
    "        aluno['curso'] = campos[2]\n",
    "        listaTPC = []\n",
    "        for tpc in campos[3:]:\n",
    "            listaTPC.append(int(tpc))\n",
    "        aluno['tpc'] = listaTPC\n",
    "        bd.append(aluno)\n",
    "    return bd\n",
    "\n",
    "BD = lerDataset(\"alunos.csv\")\n",
    "print(BD)"
   ]
  },
  {
   "cell_type": "code",
   "execution_count": null,
   "metadata": {},
   "outputs": [],
   "source": [
    "# listagem da informação- ex:2\n",
    "def listarDataset(bd):\n",
    "    print(\"id     |nome               |curso      | média\")\n",
    "    print(\"----------------------------------------------\")\n",
    "    for a in bd:\n",
    "        print(a['id']+' | '+a['nome']+' | '+a['curso']\n",
    "                +' | '+str(sum(a['tpc'])/len(a['tpc'])))\n",
    "        \n",
    "listarDataset(BD)"
   ]
  },
  {
   "cell_type": "code",
   "execution_count": null,
   "metadata": {},
   "outputs": [],
   "source": [
    "# Consulta de um registo- ex:3\n",
    "def consultarDataset(bd, id):\n",
    "    for a in bd:\n",
    "        if a['id']==id:\n",
    "            print(a['id'] + '  |  ' +  a['nome']+ '   |   ' + a['curso']  + '   |   ' + str(a['tpc']) + '   |  ' + str((sum(a['tpc']))/len(a['tpc'])))\n",
    "              \n",
    "            \n",
    "consultarDataset(BD, '\"a1\"')"
   ]
  },
  {
   "cell_type": "code",
   "execution_count": null,
   "metadata": {},
   "outputs": [],
   "source": [
    "# top 10- ex:4\n",
    "def top10(bd):\n",
    "    novaBD=[]\n",
    "    for a in bd:\n",
    "        novoAluno= a\n",
    "        novoAluno['media']= (sum(a['tpc']))/len(a['tpc'])\n",
    "        novaBD.append(novoAluno)\n",
    "    listaOrdenada= sorted(novaBD, key=lambda d: d['media'], reverse=True)\n",
    "    \n",
    "    i=0\n",
    "    while i<10:\n",
    "        a=listaOrdenada[i]\n",
    "        print(a['id'] + '  |  ' +  a['nome']+ '   |   ' + a['curso']  + '   |  ' + str(a['media']))\n",
    "        i+=1\n",
    "        \n",
    "        \n",
    "top10(BD)"
   ]
  },
  {
   "cell_type": "code",
   "execution_count": null,
   "metadata": {},
   "outputs": [],
   "source": [
    "#distribuiçao por curso- ex:5\n",
    "def distribPorCurso(bd):\n",
    "    distribuicao = {}\n",
    "    for a in bd:\n",
    "        if a['curso'] in distribuicao.keys():\n",
    "            distribuicao[a['curso']] = distribuicao[a['curso']] +1\n",
    "        else:\n",
    "            distribuicao[a['curso']] = 1\n",
    "    return distribuicao\n",
    "mydistrib = distribPorCurso(BD)\n",
    "print(mydistrib)"
   ]
  },
  {
   "cell_type": "code",
   "execution_count": null,
   "metadata": {},
   "outputs": [],
   "source": [
    "#distribuiçao por média- ex:6\n",
    "def distribPorMedia(bd):\n",
    "    distribuicaom={}\n",
    "    for a in bd:\n",
    "        m=int(sum(a['tpc'])/len(a['tpc']))\n",
    "        if m in distribuicaom.keys():\n",
    "            distribuicaom[m] = distribuicaom[m] +1\n",
    "        else:\n",
    "            distribuicaom[m] = 1\n",
    "    return distribuicaom\n",
    "distribmedia = distribPorMedia(BD)\n",
    "print(distribmedia)"
   ]
  },
  {
   "cell_type": "code",
   "execution_count": 13,
   "metadata": {},
   "outputs": [],
   "source": [
    "import matplotlib.pyplot as plt"
   ]
  },
  {
   "cell_type": "code",
   "execution_count": null,
   "metadata": {},
   "outputs": [],
   "source": [
    "#grafico distribuicao por curso- ex:7\n",
    "def plotDistribPorCurso(bd):\n",
    "    distribuicao=distribPorCurso(bd)\n",
    " \n",
    "    x = list(range(1,len(distribuicao.keys())+1))\n",
    "    y = list(distribuicao.values())\n",
    "\n",
    "    cursos = list(distribuicao.keys())\n",
    "\n",
    "    plt.bar(x, y, tick_label = cursos, width = 0.8, color = ['skyblue', 'pink', 'turquoise', 'violet'])\n",
    "\n",
    "    plt.xlabel('Cursos')\n",
    "    plt.ylabel('Nº alunos')\n",
    "    plt.title('Distribuição por cursos')\n",
    "\n",
    "    plt.show()\n",
    "\n",
    "plotDistribPorCurso(BD)"
   ]
  },
  {
   "cell_type": "code",
   "execution_count": null,
   "metadata": {},
   "outputs": [],
   "source": [
    "#grafico distribuicao por media- ex:8\n",
    "def plotDistribPorMedia(bd):\n",
    "    distribuicao=distribPorMedia(bd)\n",
    " \n",
    "    x = list(range(1,len(distribuicao.keys())+1))\n",
    "    y = list(distribuicao.values())\n",
    "    medias = list(distribuicao.keys())\n",
    "\n",
    "    plt.bar(x, y, tick_label = medias, width = 0.8, color=['turquoise', 'violet', 'skyblue'])\n",
    "\n",
    "    plt.xlabel('Médias')\n",
    "    plt.ylabel('Nº alunos')\n",
    "    plt.title('Distribuição por média')\n",
    "   \n",
    "    plt.show()\n",
    "\n",
    "plotDistribPorMedia(BD)"
   ]
  }
 ],
 "metadata": {
  "kernelspec": {
   "display_name": "Python 3",
   "language": "python",
   "name": "python3"
  },
  "language_info": {
   "codemirror_mode": {
    "name": "ipython",
    "version": 3
   },
   "file_extension": ".py",
   "mimetype": "text/x-python",
   "name": "python",
   "nbconvert_exporter": "python",
   "pygments_lexer": "ipython3",
   "version": "3.8.3"
  }
 },
 "nbformat": 4,
 "nbformat_minor": 4
}
