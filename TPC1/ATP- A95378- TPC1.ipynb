{
 "cells": [
  {
   "cell_type": "code",
   "execution_count": null,
   "metadata": {},
   "outputs": [],
   "source": [
    "import random\n",
    "\n",
    "def fosforos():\n",
    "    L=[1,2,3,4]\n",
    "    t=21\n",
    "    c=0\n",
    "    jogador=int(input(\"escolha o numero 1 ou 2: \"))\n",
    "\n",
    "    if jogador==1:\n",
    "        while t>1:\n",
    "            j=float(input(\"o jogador deve introduzir um numero contido entre 1 e 4 inclusive: \"))\n",
    "            c=5-j\n",
    "            t=t-5\n",
    "            print(\"o computador jogou\", c,\" fosforos e ha\", t, \" fosforos no total\")\n",
    "        return t\n",
    "     \n",
    "    if jogador==2:\n",
    "        c=random.choice(L)\n",
    "        t=t-c\n",
    "        print(\"o computador jogou\", c,\" fosforos há \", t, \" fosforos no total\")\n",
    "        j=float(input(\" o jogador deve introduzir um numero contido entre 1 e 4 inclusive: \"))\n",
    "        t=t-j\n",
    "        print(\"o jogador jogou\", j,\" fosforos há \", t, \" fosforos no total\")\n",
    "        \n",
    "        while t>1: \n",
    "            if ((c+j)%5)!=0 : \n",
    "                c=5-((c+j)%5)\n",
    "                t=t-c\n",
    "                print(\"o computador jogou\", c,\" fosforos há \", t, \" fosforos no total\")\n",
    "                \n",
    "                while t>1:\n",
    "                    j=float(input(\"o jogador deve introduzir um numero contido entre 1 e 4 inclusive: \"))\n",
    "                    t=t-j\n",
    "                    print(\"o jogador jogou\", j,\" fosforos há \", t, \" fosforos no total\")\n",
    "                    c=5-j\n",
    "                    t=t-c\n",
    "                    print(\"o computador jogou\", c,\" fosforos há \", t, \" fosforos no total\")\n",
    "                     \n",
    "            else:\n",
    "                c=random.choice(L)\n",
    "                t=t-c\n",
    "                print(\"o computador jogou\", c,\" fosforos há \", t, \" fosforos no total\")\n",
    "                j=float(input(\"o jogador deve introduzir um numero contido entre 1 e 4 inclusive: \"))\n",
    "                t=t-j\n",
    "                print(\"o jogador jogou\", j,\" fosforos há \", t, \" fosforos no total\")\n",
    "       \n",
    " \n",
    "print(fosforos())"
   ]
  }
 ],
 "metadata": {
  "kernelspec": {
   "display_name": "Python 3",
   "language": "python",
   "name": "python3"
  },
  "language_info": {
   "codemirror_mode": {
    "name": "ipython",
    "version": 3
   },
   "file_extension": ".py",
   "mimetype": "text/x-python",
   "name": "python",
   "nbconvert_exporter": "python",
   "pygments_lexer": "ipython3",
   "version": "3.8.3"
  }
 },
 "nbformat": 4,
 "nbformat_minor": 4
}
