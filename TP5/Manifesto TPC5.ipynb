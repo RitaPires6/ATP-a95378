{
 "cells": [
  {
   "cell_type": "markdown",
   "metadata": {},
   "source": [
    "# ATP 2021/2022"
   ]
  },
  {
   "cell_type": "markdown",
   "metadata": {},
   "source": [
    "## Manifesto do TPC5"
   ]
  },
  {
   "cell_type": "markdown",
   "metadata": {},
   "source": [
    "* ***autor:*** Ana Rita Pires, A95378, MIEBIOM\n",
    "* ***indentificador:*** TPC5\n",
    "* ***título:*** Calculadora de polinómios\n",
    "* ***supervisor:*** José Carlos Ramalho, www.di.uminho.pt/~jcr/\n",
    "* ***data de inicio:*** 2021-11-14 \n",
    "* ***data de fim:*** 2021-11-15"
   ]
  },
  {
   "cell_type": "markdown",
   "metadata": {},
   "source": [
    "### Resumo:"
   ]
  },
  {
   "cell_type": "markdown",
   "metadata": {},
   "source": [
    "O projeto TPC5 consiste num conjunto de algoritmos em *python* capaz de resolver o problema proposto, que é  o desenvolvimento de uma aplicação capaz de criar e efetuar algumas operações com polinómios.\n",
    "\n",
    "Para isto, defini que um polinómio é uma lista de termos em que cada termo é um tuplo formado por dois elementos o primeiro é o correspondente ao coeficiente e o segundo o correspondente ao expoente.\n",
    "\n",
    "Assim, criei as funções responsáveis pela criação e visualização desse polinómio. Desta forma, em primeiro lugar criei as funções **criarTermo(coef,exp)**, **criarPolinomio()**, **inserirTermo(p, t)** , em que a primeira cria o tuplo com as duas variaveis, coeficiente e o expoente, a segunda cria uma lista vazia que irá ser o nosso polinómio e a terceira insere o nosso termo a essa mesma lista. De seguida, criei as funções **verTermo(t)** e **verPolinomio(p)** para o polinómio aparecer da forma a que estamos habituados a ver na matemática e não na forma de uma lista com tuplos.\n",
    "\n",
    "Após isto tambem criei as funções **calcPol(p, x)**, **tabela(p, linhas)**, **derivarPol(p)**, **chaveordenar(t)**, **ordenarpolinomio(p)** e **simplificarPol(p)**, em que a primeira calcula o polinómio num ponto, ou seja, calcula o polinomeio para um determinado valor de x, a segunda dá-nos a tabela de valores do polinomio, a terceira diz qual é a derivada desse polinomio. Já a quarta e a quinta função são usadas na sexta, isto é, para a simplificação do polinomio, a quarta diz qual é a chave para a ordenação do polinómio que é o expoente, a quinta ordena o polinómio pelo seu expoente para que na sexta função possam ser somados os termos com o mesmo expoente.\n",
    "\n",
    "No final criei a função **menu()** que nos permite efetuar todas as operações desejadas."
   ]
  }
 ],
 "metadata": {
  "kernelspec": {
   "display_name": "Python 3",
   "language": "python",
   "name": "python3"
  },
  "language_info": {
   "codemirror_mode": {
    "name": "ipython",
    "version": 3
   },
   "file_extension": ".py",
   "mimetype": "text/x-python",
   "name": "python",
   "nbconvert_exporter": "python",
   "pygments_lexer": "ipython3",
   "version": "3.8.3"
  }
 },
 "nbformat": 4,
 "nbformat_minor": 4
}
