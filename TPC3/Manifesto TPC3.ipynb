{
 "cells": [
  {
   "cell_type": "markdown",
   "metadata": {},
   "source": [
    "# ATP 2021/2022"
   ]
  },
  {
   "cell_type": "markdown",
   "metadata": {},
   "source": [
    "## Manifesto do TPC2"
   ]
  },
  {
   "cell_type": "markdown",
   "metadata": {},
   "source": [
    "* ***autor:*** Ana Rita Pires, A95378, MIEBIOM\n",
    "* ***indentificador:*** TPC3\n",
    "* ***título:*** bubblesort\n",
    "* ***supervisor:*** José Carlos Ramalho, www.di.uminho.pt/~jcr/\n",
    "* ***data de inicio:*** 2021-10-21 \n",
    "* ***data de fim:*** 2021-10-26"
   ]
  },
  {
   "cell_type": "markdown",
   "metadata": {},
   "source": [
    "### Resumo:"
   ]
  },
  {
   "cell_type": "markdown",
   "metadata": {},
   "source": [
    "O projeto TPC3 consiste em criar em *python* uma função chamada bubblesort que recebe uma lista e a ordena.\n",
    "\n",
    "Para isso utilizo dois ciclos for, o primeiro irá percorrer todos os elementos, cuja a sua posição é representada pela variável **\"i\"**, de toda a dimensão da lista. Já o segundo irá percorrer todos os elementos com a posição,**\"j\"**, imediatamente a seguir aos elementos cuja a sua posição é **\"i\"**.\n",
    "\n",
    "Em seguida, mete-se a condição de que caso o valor do elemento da lista que se encontra na posição **\"i\"** seja maior que o valor do elemento da lista que se encontra na posição **\"j\"** então irá haver uma nova variável, **\"s\"**, que irá assumir o valor do elemento que até ao momento se encontra na posição **\"i\"**, o novo valor do elemento que se encontra na posição **\"i\"** irá ser o valor do elemento que até ao momento se encontra na posição **\"j\"** e o novo valor do elemento que se encontra nessa mesma posição, **\"j\"**, irá ter o valor de **\"s\"**. Organizando-se assim a lista original.\n"
   ]
  }
 ],
 "metadata": {
  "kernelspec": {
   "display_name": "Python 3",
   "language": "python",
   "name": "python3"
  },
  "language_info": {
   "codemirror_mode": {
    "name": "ipython",
    "version": 3
   },
   "file_extension": ".py",
   "mimetype": "text/x-python",
   "name": "python",
   "nbconvert_exporter": "python",
   "pygments_lexer": "ipython3",
   "version": "3.8.3"
  }
 },
 "nbformat": 4,
 "nbformat_minor": 4
}
