{
 "cells": [
  {
   "cell_type": "markdown",
   "metadata": {},
   "source": [
    "# ATP 2021/2022"
   ]
  },
  {
   "cell_type": "markdown",
   "metadata": {},
   "source": [
    "## Manifesto do TPC6"
   ]
  },
  {
   "cell_type": "markdown",
   "metadata": {},
   "source": [
    "* ***autor:*** Ana Rita Pires, A95378, MIEBIOM\n",
    "* ***indentificador:*** TPC6\n",
    "* ***título:*** gráfico de polinómios\n",
    "* ***supervisor:*** José Carlos Ramalho, www.di.uminho.pt/~jcr/\n",
    "* ***data de inicio:*** 2021-11-20\n",
    "* ***data de fim:*** 2021-11-22"
   ]
  },
  {
   "cell_type": "markdown",
   "metadata": {},
   "source": [
    "### Resumo:"
   ]
  },
  {
   "cell_type": "markdown",
   "metadata": {},
   "source": [
    "O projeto TPC6 consiste num conjunto de algoritmos em *python* capaz de resolver o problema proposto, que é  adicionar a opção de visualizar o gráfico de um polinómio na aplicação criada no TPC anterior, isto é no TPC5.\n",
    "\n",
    "Para isto, apenas acrescentei ao código anterior a função **visualizacaopolinomio(p)**, que recebe um polinómio. Assim, inicialmente defino um intervalo de valores para os valores de x e digo que os valores de y resultam do calculo do polinomio para cada um dos valores de x definidos. De seguida, defino uma dimensão para acriação dos eixos das abcissas e das ordenadas e depois insiro um intervalos de valor como sendo os limites de x e y para obter uma janela em que possa ter uma melhor visualização do gráfico."
   ]
  }
 ],
 "metadata": {
  "kernelspec": {
   "display_name": "Python 3",
   "language": "python",
   "name": "python3"
  },
  "language_info": {
   "codemirror_mode": {
    "name": "ipython",
    "version": 3
   },
   "file_extension": ".py",
   "mimetype": "text/x-python",
   "name": "python",
   "nbconvert_exporter": "python",
   "pygments_lexer": "ipython3",
   "version": "3.8.3"
  }
 },
 "nbformat": 4,
 "nbformat_minor": 4
}
