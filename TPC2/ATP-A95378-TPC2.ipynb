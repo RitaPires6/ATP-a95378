{
 "cells": [
  {
   "cell_type": "code",
   "execution_count": null,
   "metadata": {},
   "outputs": [],
   "source": [
    "def numero():\n",
    "    L=[]\n",
    "    menori=int(input(\"indique o menor valor do intervalo com o qual quer jogar: \"))\n",
    "    maiori=int(input(\"indique o maior valor do intervalo com o qual quer jogar: \"))\n",
    "    for i in range(menori-1,maiori):\n",
    "        a=i+1\n",
    "        L.append(a)    \n",
    "    print(L)\n",
    "    \n",
    "    minimo=min(L)\n",
    "    maximo=max(L)\n",
    "    n=(minimo+maximo)//2\n",
    "    c=1\n",
    "    while c==1:\n",
    "        print(\"escreve maior, menor ou igual caso o numero que pensou seja, respetivamente, maior, menor ou igual a : \", n)\n",
    "        m=input(\" \")\n",
    "        if m==\"maior\":\n",
    "            minimo=n\n",
    "            maximo=maximo\n",
    "            n=(minimo+maximo)//2\n",
    "                \n",
    "                \n",
    "        if m==\"menor\":\n",
    "            minimo=minimo\n",
    "            maximo=n\n",
    "            n=(minimo+maximo)//2\n",
    "                \n",
    "            \n",
    "        if m==\"igual\":\n",
    "            print(\"o seu numero é: \")\n",
    "            c=0\n",
    "        \n",
    "    return n        \n",
    "            \n",
    "        \n",
    "print(numero())"
   ]
  }
 ],
 "metadata": {
  "kernelspec": {
   "display_name": "Python 3",
   "language": "python",
   "name": "python3"
  },
  "language_info": {
   "codemirror_mode": {
    "name": "ipython",
    "version": 3
   },
   "file_extension": ".py",
   "mimetype": "text/x-python",
   "name": "python",
   "nbconvert_exporter": "python",
   "pygments_lexer": "ipython3",
   "version": "3.8.3"
  }
 },
 "nbformat": 4,
 "nbformat_minor": 4
}
