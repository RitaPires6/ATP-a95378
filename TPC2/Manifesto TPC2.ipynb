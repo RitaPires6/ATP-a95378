{
 "cells": [
  {
   "cell_type": "markdown",
   "metadata": {},
   "source": [
    "# ATP 2021/2022"
   ]
  },
  {
   "cell_type": "markdown",
   "metadata": {},
   "source": [
    "## Manifesto do TPC2"
   ]
  },
  {
   "cell_type": "markdown",
   "metadata": {},
   "source": [
    "* ***autor:*** Ana Rita Pires, A95378, MIEBIOM\n",
    "* ***indentificador:*** TPC2\n",
    "* ***título:*** Adivinha o número\n",
    "* ***supervisor:*** José Carlos Ramalho, www.di.uminho.pt/~jcr/\n",
    "* ***data de inicio:*** 2021-10-17 \n",
    "* ***data de fim:*** 2021-10-19"
   ]
  },
  {
   "cell_type": "markdown",
   "metadata": {},
   "source": [
    "### Resumo:"
   ]
  },
  {
   "cell_type": "markdown",
   "metadata": {},
   "source": [
    "O projeto TPC2 consiste em criar um algoritmo em *python* capaz de resolver o problema do jogo \"adivinha o número\". Isto é, o jogador pensa num número de um determinado intervalo, neste caso em especifico de 1 a 100, e o computador tem que o tentar adivinhar no menor número de passos possiveis.\n",
    " \n",
    "Em primeiro lugar, cria-se uma lista vazia, e duas variáveis, **\"menori\"** e **\"maiori\"**, que iram definir o intervalo com o qual quer-se jogar, como neste caso, o intervalo é de 1 a 100, deve-se inserir no primeiro input o valor 1 e no segundo input o valor 100, de forma a que menori=1 e maiori=100.      Posteriormente, adiciona-se os elementos, **\"a\"** que tomam o valor da sua *posição na lista*, **\"i\"**, +1.\n",
    "\n",
    "Depois de criada a lista, define-se quatro variáveis, a variável **\"minimo\"** toma o valor do minimo da lista, a variavel **\"maximo\"** toma o valor do maximo da lista, a variavel **\"n\"** toma o valor do meio do intervalo através de uma divisão inteira entre a soma do valor dos extremos do intervalo e a variavel **\"c\"** que é posteriormente usada para dar continuidade ao ciclo ou então para o fazer parar.\n",
    "\n",
    "Em seguida, cria-se uma estrutura ciclica, onde está definida uma nova variável, **\"m\"**, que tomará a informação do input que o jogador colocou para a pergunta de o numero em que pensou é maior, menor ou igual ao valor da variavel, **\"n\"** que define o meio do intervalo.\n",
    "Desta forma, há três hipóteses:\n",
    "* se for maior, o minimo do intervalo passará a ter o valor da variavel, e a variável tomará o valor do meio do novo intervalo;\n",
    "* se for menor, o maximo do intervalo passará a ter o valor da variavel, e a variável tomará o valor do meio do novo intervalo;\n",
    "* se for igual, o valor da variável é o número em que o jogador pensou e o ciclo termina."
   ]
  },
  {
   "cell_type": "code",
   "execution_count": null,
   "metadata": {},
   "outputs": [],
   "source": []
  }
 ],
 "metadata": {
  "kernelspec": {
   "display_name": "Python 3",
   "language": "python",
   "name": "python3"
  },
  "language_info": {
   "codemirror_mode": {
    "name": "ipython",
    "version": 3
   },
   "file_extension": ".py",
   "mimetype": "text/x-python",
   "name": "python",
   "nbconvert_exporter": "python",
   "pygments_lexer": "ipython3",
   "version": "3.8.3"
  }
 },
 "nbformat": 4,
 "nbformat_minor": 4
}
